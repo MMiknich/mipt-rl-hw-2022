{
  "cells": [
    {
      "cell_type": "markdown",
      "metadata": {
        "id": "mLXw6zd-k3Xd"
      },
      "source": [
        "## Setup\n",
        "\n",
        "You will need to make a copy of this notebook in your Google Drive before you can edit the homework files. You can do so with **File &rarr; Save a copy in Drive**."
      ]
    },
    {
      "cell_type": "code",
      "execution_count": 59,
      "metadata": {
        "colab": {
          "base_uri": "https://localhost:8080/"
        },
        "id": "4HBPnmbIPPyl",
        "outputId": "d5dea1f7-8b64-4312-9127-7e13f7885498"
      },
      "outputs": [
        {
          "output_type": "stream",
          "name": "stdout",
          "text": [
            "Drive already mounted at /content/gdrive; to attempt to forcibly remount, call drive.mount(\"/content/gdrive\", force_remount=True).\n"
          ]
        }
      ],
      "source": [
        "#@title mount your Google Drive\n",
        "#@markdown Your work will be stored in a folder called `cds_rl_2022` by default to prevent Colab instance timeouts from deleting your edits.\n",
        "\n",
        "import os\n",
        "from google.colab import drive\n",
        "drive.mount('/content/gdrive')"
      ]
    },
    {
      "cell_type": "code",
      "execution_count": 17,
      "metadata": {
        "cellView": "form",
        "id": "OuCfTLJIx5nQ"
      },
      "outputs": [],
      "source": [
        "#@title set up mount symlink\n",
        "\n",
        "DRIVE_PATH = '/content/gdrive/My\\ Drive/cds_rl_2022'\n",
        "DRIVE_PYTHON_PATH = DRIVE_PATH.replace('\\\\', '')\n",
        "if not os.path.exists(DRIVE_PYTHON_PATH):\n",
        "  !mkdir $DRIVE_PATH\n",
        "\n",
        "## the space in `My Drive` causes some issues,\n",
        "## make a symlink to avoid this\n",
        "SYM_PATH = '/content/cds_rl_2022'\n",
        "if not os.path.exists(SYM_PATH):\n",
        "  !ln -s $DRIVE_PATH $SYM_PATH"
      ]
    },
    {
      "cell_type": "code",
      "execution_count": 18,
      "metadata": {
        "colab": {
          "base_uri": "https://localhost:8080/"
        },
        "id": "XTtWDO-Bkqnn",
        "outputId": "118bc5d0-76b9-4e34-9948-67c9a1ca5c66"
      },
      "outputs": [
        {
          "output_type": "stream",
          "name": "stdout",
          "text": [
            "\u001b[33m\r0% [Working]\u001b[0m\r            \rHit:1 https://developer.download.nvidia.com/compute/cuda/repos/ubuntu1804/x86_64  InRelease\n",
            "\u001b[33m\r0% [Connecting to archive.ubuntu.com (185.125.190.36)] [Waiting for headers] [C\u001b[0m\r                                                                               \rHit:2 http://security.ubuntu.com/ubuntu bionic-security InRelease\n",
            "Hit:3 https://cloud.r-project.org/bin/linux/ubuntu bionic-cran40/ InRelease\n",
            "Hit:4 http://ppa.launchpad.net/c2d4u.team/c2d4u4.0+/ubuntu bionic InRelease\n",
            "Hit:5 http://archive.ubuntu.com/ubuntu bionic InRelease\n",
            "Ign:6 https://developer.download.nvidia.com/compute/machine-learning/repos/ubuntu1804/x86_64  InRelease\n",
            "Hit:7 https://developer.download.nvidia.com/compute/machine-learning/repos/ubuntu1804/x86_64  Release\n",
            "Hit:8 http://archive.ubuntu.com/ubuntu bionic-updates InRelease\n",
            "Hit:9 http://ppa.launchpad.net/cran/libgit2/ubuntu bionic InRelease\n",
            "Hit:10 http://archive.ubuntu.com/ubuntu bionic-backports InRelease\n",
            "Hit:11 http://ppa.launchpad.net/deadsnakes/ppa/ubuntu bionic InRelease\n",
            "Hit:12 http://ppa.launchpad.net/graphics-drivers/ppa/ubuntu bionic InRelease\n",
            "Reading package lists... Done\n",
            "Building dependency tree       \n",
            "Reading state information... Done\n",
            "46 packages can be upgraded. Run 'apt list --upgradable' to see them.\n",
            "Reading package lists... Done\n",
            "Building dependency tree       \n",
            "Reading state information... Done\n",
            "Note, selecting 'zlib1g-dev' instead of 'libz-dev'\n",
            "build-essential is already the newest version (12.4ubuntu1).\n",
            "libxcursor-dev is already the newest version (1:1.1.15-1).\n",
            "libxi6 is already the newest version (2:1.7.9-1).\n",
            "libxinerama-dev is already the newest version (2:1.1.3-1).\n",
            "libxrandr2 is already the newest version (2:1.5.1-1).\n",
            "lsb-release is already the newest version (9.20170808ubuntu1).\n",
            "make is already the newest version (4.1-9.1ubuntu1).\n",
            "ack-grep is already the newest version (2.22-1).\n",
            "git-lfs is already the newest version (2.3.4-1).\n",
            "libglew-dev is already the newest version (2.0.0-5).\n",
            "libglfw3 is already the newest version (3.2.1-1).\n",
            "libglfw3-dev is already the newest version (3.2.1-1).\n",
            "patchelf is already the newest version (0.9-1).\n",
            "python-opengl is already the newest version (3.1.0+dfsg-1).\n",
            "swig is already the newest version (3.0.12-1).\n",
            "xpra is already the newest version (2.1.3+dfsg-1ubuntu1).\n",
            "cmake is already the newest version (3.10.2-1ubuntu2.18.04.2).\n",
            "curl is already the newest version (7.58.0-2ubuntu3.18).\n",
            "git is already the newest version (1:2.17.1-1ubuntu0.11).\n",
            "libgl1-mesa-dev is already the newest version (20.0.8-0ubuntu1~18.04.1).\n",
            "libgl1-mesa-glx is already the newest version (20.0.8-0ubuntu1~18.04.1).\n",
            "libosmesa6-dev is already the newest version (20.0.8-0ubuntu1~18.04.1).\n",
            "unzip is already the newest version (6.0-21ubuntu1.1).\n",
            "wget is already the newest version (1.19.4-1ubuntu2.2).\n",
            "xserver-xorg-dev is already the newest version (2:1.19.6-1ubuntu4.10).\n",
            "zlib1g-dev is already the newest version (1:1.2.11.dfsg-0ubuntu2.1).\n",
            "ffmpeg is already the newest version (7:3.4.8-0ubuntu0.2).\n",
            "gnupg2 is already the newest version (2.2.4-1ubuntu1.4).\n",
            "xvfb is already the newest version (2:1.19.6-1ubuntu4.10).\n",
            "The following package was automatically installed and is no longer required:\n",
            "  libnvidia-common-460\n",
            "Use 'apt autoremove' to remove it.\n",
            "0 upgraded, 0 newly installed, 0 to remove and 46 not upgraded.\n",
            "Updated git hooks.\n",
            "Git LFS initialized.\n"
          ]
        }
      ],
      "source": [
        "#@title apt install requirements\n",
        "\n",
        "#@markdown Run each section with Shift+Enter\n",
        "\n",
        "\n",
        "#@markdown Double-click on section headers to show code.\n",
        "\n",
        "!apt update \n",
        "!apt install -y --no-install-recommends \\\n",
        "        build-essential \\\n",
        "        curl \\\n",
        "        git \\\n",
        "        git-lfs \\\n",
        "        gnupg2 \\\n",
        "        make \\\n",
        "        cmake \\\n",
        "        ffmpeg \\\n",
        "        swig \\\n",
        "        libz-dev \\\n",
        "        unzip \\\n",
        "        zlib1g-dev \\\n",
        "        libglfw3 \\\n",
        "        libglfw3-dev \\\n",
        "        libxrandr2 \\\n",
        "        libxinerama-dev \\\n",
        "        libxi6 \\\n",
        "        libxcursor-dev \\\n",
        "        libgl1-mesa-dev \\\n",
        "        libgl1-mesa-glx \\\n",
        "        libglew-dev \\\n",
        "        libosmesa6-dev \\\n",
        "        lsb-release \\\n",
        "        ack-grep \\\n",
        "        patchelf \\\n",
        "        wget \\\n",
        "        xpra \\\n",
        "        xserver-xorg-dev \\\n",
        "        xvfb \\\n",
        "        python-opengl \\\n",
        "        ffmpeg\n",
        "\n",
        "# set up git lfs\n",
        "!git lfs install"
      ]
    },
    {
      "cell_type": "code",
      "execution_count": 19,
      "metadata": {
        "colab": {
          "base_uri": "https://localhost:8080/"
        },
        "id": "Xe_XRCmHM8IM",
        "outputId": "51311b5f-027a-4197-c0f2-9232f0369d77"
      },
      "outputs": [
        {
          "output_type": "stream",
          "name": "stdout",
          "text": [
            "Requirement already satisfied: free-mujoco-py in /usr/local/lib/python3.7/dist-packages (2.1.6)\n",
            "Requirement already satisfied: numpy<2.0.0,>=1.21.3 in /usr/local/lib/python3.7/dist-packages (from free-mujoco-py) (1.21.6)\n",
            "Requirement already satisfied: cffi<2.0.0,>=1.15.0 in /usr/local/lib/python3.7/dist-packages (from free-mujoco-py) (1.15.0)\n",
            "Requirement already satisfied: fasteners==0.15 in /usr/local/lib/python3.7/dist-packages (from free-mujoco-py) (0.15)\n",
            "Requirement already satisfied: Cython<0.30.0,>=0.29.24 in /usr/local/lib/python3.7/dist-packages (from free-mujoco-py) (0.29.30)\n",
            "Requirement already satisfied: imageio<3.0.0,>=2.9.0 in /usr/local/lib/python3.7/dist-packages (from free-mujoco-py) (2.19.2)\n",
            "Requirement already satisfied: glfw<2.0.0,>=1.4.0 in /usr/local/lib/python3.7/dist-packages (from free-mujoco-py) (1.12.0)\n",
            "Requirement already satisfied: monotonic>=0.1 in /usr/local/lib/python3.7/dist-packages (from fasteners==0.15->free-mujoco-py) (1.6)\n",
            "Requirement already satisfied: six in /usr/local/lib/python3.7/dist-packages (from fasteners==0.15->free-mujoco-py) (1.15.0)\n",
            "Requirement already satisfied: pycparser in /usr/local/lib/python3.7/dist-packages (from cffi<2.0.0,>=1.15.0->free-mujoco-py) (2.21)\n",
            "Requirement already satisfied: pillow>=8.3.2 in /usr/local/lib/python3.7/dist-packages (from imageio<3.0.0,>=2.9.0->free-mujoco-py) (9.1.1)\n"
          ]
        }
      ],
      "source": [
        "#@title install mujoco-py\n",
        "\n",
        "%pip install free-mujoco-py\n",
        "\n",
        "# Cythonizes pkg on the first run\n",
        "import mujoco_py"
      ]
    },
    {
      "cell_type": "code",
      "execution_count": 20,
      "metadata": {
        "colab": {
          "base_uri": "https://localhost:8080/"
        },
        "id": "X_aXQac0f3pr",
        "outputId": "8dcad73d-e458-43da-ab19-0b122f9ea905"
      },
      "outputs": [
        {
          "output_type": "stream",
          "name": "stdout",
          "text": [
            "/content/gdrive/My Drive/cds_rl_2022\n",
            "/content/gdrive/My Drive/cds_rl_2022/rl_hw/hw1\n",
            "Requirement already satisfied: gym in /usr/local/lib/python3.7/dist-packages (from -r requirements.colab.txt (line 1)) (0.17.3)\n",
            "Requirement already satisfied: tensorboard in /usr/local/lib/python3.7/dist-packages (from -r requirements.colab.txt (line 2)) (2.8.0)\n",
            "Requirement already satisfied: tensorboardX in /usr/local/lib/python3.7/dist-packages (from -r requirements.colab.txt (line 3)) (2.5)\n",
            "Requirement already satisfied: matplotlib in /usr/local/lib/python3.7/dist-packages (from -r requirements.colab.txt (line 4)) (3.2.2)\n",
            "Requirement already satisfied: ipython in /usr/local/lib/python3.7/dist-packages (from -r requirements.colab.txt (line 5)) (5.5.0)\n",
            "Requirement already satisfied: moviepy in /usr/local/lib/python3.7/dist-packages (from -r requirements.colab.txt (line 6)) (0.2.3.5)\n",
            "Requirement already satisfied: pyvirtualdisplay in /usr/local/lib/python3.7/dist-packages (from -r requirements.colab.txt (line 7)) (3.0)\n",
            "Requirement already satisfied: torch in /usr/local/lib/python3.7/dist-packages (from -r requirements.colab.txt (line 8)) (1.11.0+cu113)\n",
            "Requirement already satisfied: opencv-python in /usr/local/lib/python3.7/dist-packages (from -r requirements.colab.txt (line 9)) (4.1.2.30)\n",
            "Requirement already satisfied: ipdb in /usr/local/lib/python3.7/dist-packages (from -r requirements.colab.txt (line 10)) (0.13.4)\n",
            "Requirement already satisfied: box2d-py in /usr/local/lib/python3.7/dist-packages (from -r requirements.colab.txt (line 11)) (2.3.8)\n",
            "Requirement already satisfied: scipy in /usr/local/lib/python3.7/dist-packages (from gym->-r requirements.colab.txt (line 1)) (1.4.1)\n",
            "Requirement already satisfied: numpy>=1.10.4 in /usr/local/lib/python3.7/dist-packages (from gym->-r requirements.colab.txt (line 1)) (1.21.6)\n",
            "Requirement already satisfied: cloudpickle<1.7.0,>=1.2.0 in /usr/local/lib/python3.7/dist-packages (from gym->-r requirements.colab.txt (line 1)) (1.3.0)\n",
            "Requirement already satisfied: pyglet<=1.5.0,>=1.4.0 in /usr/local/lib/python3.7/dist-packages (from gym->-r requirements.colab.txt (line 1)) (1.5.0)\n",
            "Requirement already satisfied: future in /usr/local/lib/python3.7/dist-packages (from pyglet<=1.5.0,>=1.4.0->gym->-r requirements.colab.txt (line 1)) (0.16.0)\n",
            "Requirement already satisfied: google-auth-oauthlib<0.5,>=0.4.1 in /usr/local/lib/python3.7/dist-packages (from tensorboard->-r requirements.colab.txt (line 2)) (0.4.6)\n",
            "Requirement already satisfied: absl-py>=0.4 in /usr/local/lib/python3.7/dist-packages (from tensorboard->-r requirements.colab.txt (line 2)) (1.0.0)\n",
            "Requirement already satisfied: grpcio>=1.24.3 in /usr/local/lib/python3.7/dist-packages (from tensorboard->-r requirements.colab.txt (line 2)) (1.46.1)\n",
            "Requirement already satisfied: werkzeug>=0.11.15 in /usr/local/lib/python3.7/dist-packages (from tensorboard->-r requirements.colab.txt (line 2)) (1.0.1)\n",
            "Requirement already satisfied: tensorboard-plugin-wit>=1.6.0 in /usr/local/lib/python3.7/dist-packages (from tensorboard->-r requirements.colab.txt (line 2)) (1.8.1)\n",
            "Requirement already satisfied: protobuf>=3.6.0 in /usr/local/lib/python3.7/dist-packages (from tensorboard->-r requirements.colab.txt (line 2)) (3.17.3)\n",
            "Requirement already satisfied: requests<3,>=2.21.0 in /usr/local/lib/python3.7/dist-packages (from tensorboard->-r requirements.colab.txt (line 2)) (2.23.0)\n",
            "Requirement already satisfied: markdown>=2.6.8 in /usr/local/lib/python3.7/dist-packages (from tensorboard->-r requirements.colab.txt (line 2)) (3.3.7)\n",
            "Requirement already satisfied: setuptools>=41.0.0 in /usr/local/lib/python3.7/dist-packages (from tensorboard->-r requirements.colab.txt (line 2)) (57.4.0)\n",
            "Requirement already satisfied: google-auth<3,>=1.6.3 in /usr/local/lib/python3.7/dist-packages (from tensorboard->-r requirements.colab.txt (line 2)) (1.35.0)\n",
            "Requirement already satisfied: tensorboard-data-server<0.7.0,>=0.6.0 in /usr/local/lib/python3.7/dist-packages (from tensorboard->-r requirements.colab.txt (line 2)) (0.6.1)\n",
            "Requirement already satisfied: wheel>=0.26 in /usr/local/lib/python3.7/dist-packages (from tensorboard->-r requirements.colab.txt (line 2)) (0.37.1)\n",
            "Requirement already satisfied: six in /usr/local/lib/python3.7/dist-packages (from absl-py>=0.4->tensorboard->-r requirements.colab.txt (line 2)) (1.15.0)\n",
            "Requirement already satisfied: cachetools<5.0,>=2.0.0 in /usr/local/lib/python3.7/dist-packages (from google-auth<3,>=1.6.3->tensorboard->-r requirements.colab.txt (line 2)) (4.2.4)\n",
            "Requirement already satisfied: rsa<5,>=3.1.4 in /usr/local/lib/python3.7/dist-packages (from google-auth<3,>=1.6.3->tensorboard->-r requirements.colab.txt (line 2)) (4.8)\n",
            "Requirement already satisfied: pyasn1-modules>=0.2.1 in /usr/local/lib/python3.7/dist-packages (from google-auth<3,>=1.6.3->tensorboard->-r requirements.colab.txt (line 2)) (0.2.8)\n",
            "Requirement already satisfied: requests-oauthlib>=0.7.0 in /usr/local/lib/python3.7/dist-packages (from google-auth-oauthlib<0.5,>=0.4.1->tensorboard->-r requirements.colab.txt (line 2)) (1.3.1)\n",
            "Requirement already satisfied: importlib-metadata>=4.4 in /usr/local/lib/python3.7/dist-packages (from markdown>=2.6.8->tensorboard->-r requirements.colab.txt (line 2)) (4.11.3)\n",
            "Requirement already satisfied: typing-extensions>=3.6.4 in /usr/local/lib/python3.7/dist-packages (from importlib-metadata>=4.4->markdown>=2.6.8->tensorboard->-r requirements.colab.txt (line 2)) (4.2.0)\n",
            "Requirement already satisfied: zipp>=0.5 in /usr/local/lib/python3.7/dist-packages (from importlib-metadata>=4.4->markdown>=2.6.8->tensorboard->-r requirements.colab.txt (line 2)) (3.8.0)\n",
            "Requirement already satisfied: pyasn1<0.5.0,>=0.4.6 in /usr/local/lib/python3.7/dist-packages (from pyasn1-modules>=0.2.1->google-auth<3,>=1.6.3->tensorboard->-r requirements.colab.txt (line 2)) (0.4.8)\n",
            "Requirement already satisfied: certifi>=2017.4.17 in /usr/local/lib/python3.7/dist-packages (from requests<3,>=2.21.0->tensorboard->-r requirements.colab.txt (line 2)) (2021.10.8)\n",
            "Requirement already satisfied: chardet<4,>=3.0.2 in /usr/local/lib/python3.7/dist-packages (from requests<3,>=2.21.0->tensorboard->-r requirements.colab.txt (line 2)) (3.0.4)\n",
            "Requirement already satisfied: urllib3!=1.25.0,!=1.25.1,<1.26,>=1.21.1 in /usr/local/lib/python3.7/dist-packages (from requests<3,>=2.21.0->tensorboard->-r requirements.colab.txt (line 2)) (1.24.3)\n",
            "Requirement already satisfied: idna<3,>=2.5 in /usr/local/lib/python3.7/dist-packages (from requests<3,>=2.21.0->tensorboard->-r requirements.colab.txt (line 2)) (2.10)\n",
            "Requirement already satisfied: oauthlib>=3.0.0 in /usr/local/lib/python3.7/dist-packages (from requests-oauthlib>=0.7.0->google-auth-oauthlib<0.5,>=0.4.1->tensorboard->-r requirements.colab.txt (line 2)) (3.2.0)\n",
            "Requirement already satisfied: kiwisolver>=1.0.1 in /usr/local/lib/python3.7/dist-packages (from matplotlib->-r requirements.colab.txt (line 4)) (1.4.2)\n",
            "Requirement already satisfied: python-dateutil>=2.1 in /usr/local/lib/python3.7/dist-packages (from matplotlib->-r requirements.colab.txt (line 4)) (2.8.2)\n",
            "Requirement already satisfied: pyparsing!=2.0.4,!=2.1.2,!=2.1.6,>=2.0.1 in /usr/local/lib/python3.7/dist-packages (from matplotlib->-r requirements.colab.txt (line 4)) (3.0.9)\n",
            "Requirement already satisfied: cycler>=0.10 in /usr/local/lib/python3.7/dist-packages (from matplotlib->-r requirements.colab.txt (line 4)) (0.11.0)\n",
            "Requirement already satisfied: pickleshare in /usr/local/lib/python3.7/dist-packages (from ipython->-r requirements.colab.txt (line 5)) (0.7.5)\n",
            "Requirement already satisfied: simplegeneric>0.8 in /usr/local/lib/python3.7/dist-packages (from ipython->-r requirements.colab.txt (line 5)) (0.8.1)\n",
            "Requirement already satisfied: prompt-toolkit<2.0.0,>=1.0.4 in /usr/local/lib/python3.7/dist-packages (from ipython->-r requirements.colab.txt (line 5)) (1.0.18)\n",
            "Requirement already satisfied: pygments in /usr/local/lib/python3.7/dist-packages (from ipython->-r requirements.colab.txt (line 5)) (2.6.1)\n",
            "Requirement already satisfied: decorator in /usr/local/lib/python3.7/dist-packages (from ipython->-r requirements.colab.txt (line 5)) (4.4.2)\n",
            "Requirement already satisfied: traitlets>=4.2 in /usr/local/lib/python3.7/dist-packages (from ipython->-r requirements.colab.txt (line 5)) (5.1.1)\n",
            "Requirement already satisfied: pexpect in /usr/local/lib/python3.7/dist-packages (from ipython->-r requirements.colab.txt (line 5)) (4.8.0)\n",
            "Requirement already satisfied: wcwidth in /usr/local/lib/python3.7/dist-packages (from prompt-toolkit<2.0.0,>=1.0.4->ipython->-r requirements.colab.txt (line 5)) (0.2.5)\n",
            "Requirement already satisfied: tqdm<5.0,>=4.11.2 in /usr/local/lib/python3.7/dist-packages (from moviepy->-r requirements.colab.txt (line 6)) (4.64.0)\n",
            "Requirement already satisfied: imageio<3.0,>=2.1.2 in /usr/local/lib/python3.7/dist-packages (from moviepy->-r requirements.colab.txt (line 6)) (2.19.2)\n",
            "Requirement already satisfied: pillow>=8.3.2 in /usr/local/lib/python3.7/dist-packages (from imageio<3.0,>=2.1.2->moviepy->-r requirements.colab.txt (line 6)) (9.1.1)\n",
            "Requirement already satisfied: ptyprocess>=0.5 in /usr/local/lib/python3.7/dist-packages (from pexpect->ipython->-r requirements.colab.txt (line 5)) (0.7.0)\n",
            "Obtaining file:///content/gdrive/My%20Drive/cds_rl_2022/rl_hw/hw1\n",
            "Installing collected packages: cds-rl\n",
            "  Attempting uninstall: cds-rl\n",
            "    Found existing installation: cds-rl 1.0.0\n",
            "    Can't uninstall 'cds-rl'. No files were found to uninstall.\n",
            "  Running setup.py develop for cds-rl\n",
            "Successfully installed cds-rl-1.0.0\n"
          ]
        }
      ],
      "source": [
        "#@title clone homework repo and install all requirements\n",
        "\n",
        "%cd $SYM_PATH\n",
        "# !git clone https://github.com/pkuderov/mipt-rl-hw-2022.git rl_hw\n",
        "%cd rl_hw/hw1\n",
        "%pip install -r requirements.colab.txt\n",
        "%pip install -e ."
      ]
    },
    {
      "cell_type": "code",
      "execution_count": 21,
      "metadata": {
        "cellView": "form",
        "colab": {
          "base_uri": "https://localhost:8080/"
        },
        "id": "8y_M1tGxmGhT",
        "outputId": "3a767389-76cd-4400-ac84-5a1d062b31da"
      },
      "outputs": [
        {
          "output_type": "execute_result",
          "data": {
            "text/plain": [
              "<pyvirtualdisplay.display.Display at 0x7f1a9398fb50>"
            ]
          },
          "metadata": {},
          "execution_count": 21
        }
      ],
      "source": [
        "#@title set up virtual display\n",
        "\n",
        "from pyvirtualdisplay import Display\n",
        "\n",
        "display = Display(visible=0, size=(1400, 900))\n",
        "display.start()"
      ]
    },
    {
      "cell_type": "code",
      "execution_count": 22,
      "metadata": {
        "cellView": "form",
        "id": "y7cywOEgo4a8",
        "colab": {
          "base_uri": "https://localhost:8080/",
          "height": 439
        },
        "outputId": "5774ca05-8c04-4d89-b7d1-a83dc516a815"
      },
      "outputs": [
        {
          "output_type": "stream",
          "name": "stdout",
          "text": [
            "Loading video...\n"
          ]
        },
        {
          "output_type": "display_data",
          "data": {
            "text/plain": [
              "<IPython.core.display.HTML object>"
            ],
            "text/html": [
              "<video alt=\"test\" autoplay \n",
              "                loop controls style=\"height: 400px;\">\n",
              "                <source src=\"data:video/mp4;base64,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\" type=\"video/mp4\" />\n",
              "                </video>"
            ]
          },
          "metadata": {}
        }
      ],
      "source": [
        "#@title test virtual display\n",
        "\n",
        "#@markdown If you see a video of a four-legged ant fumbling about, setup is complete!\n",
        "\n",
        "import gym\n",
        "from cds_rl.infrastructure.colab_utils import (\n",
        "    wrap_env,\n",
        "    show_video\n",
        ") \n",
        "\n",
        "env = wrap_env(gym.make(\"Ant-v2\"))\n",
        "\n",
        "observation = env.reset()\n",
        "for i in range(100):\n",
        "    env.render(mode='rgb_array')\n",
        "    obs, rew, term, _ = env.step(env.action_space.sample() ) \n",
        "    if term:\n",
        "      break;\n",
        "            \n",
        "env.close()\n",
        "print('Loading video...')\n",
        "show_video()"
      ]
    },
    {
      "cell_type": "markdown",
      "metadata": {
        "id": "eQx7oDGeeKWj"
      },
      "source": [
        "## Editing Code\n",
        "\n",
        "To edit code, click the folder icon on the left menu. Navigate to the corresponding file (`cds_rl_2022/...`). Double click a file to open an editor. There is a timeout of about ~12 hours with Colab while it is active (and less if you close your browser window). We sync your edits to Google Drive so that you won't lose your work in the event of an instance timeout, but you will need to re-mount your Google Drive and re-install packages with every new instance."
      ]
    },
    {
      "cell_type": "markdown",
      "metadata": {
        "id": "UunygyDXrx7k"
      },
      "source": [
        "## Run Behavior Cloning (Problem 1)"
      ]
    },
    {
      "cell_type": "code",
      "execution_count": 23,
      "metadata": {
        "cellView": "form",
        "id": "enh5ZMHftEO7"
      },
      "outputs": [],
      "source": [
        "#@title imports\n",
        "\n",
        "import os\n",
        "import time\n",
        "import numpy as np\n",
        "\n",
        "from cds_rl.infrastructure.rl_trainer import RL_Trainer\n",
        "from cds_rl.agents.bc_agent import BCAgent\n",
        "from cds_rl.policies.loaded_gaussian_policy import LoadedGaussianPolicy\n",
        "\n",
        "%load_ext autoreload\n",
        "%autoreload 2"
      ]
    },
    {
      "cell_type": "code",
      "execution_count": 13,
      "metadata": {
        "cellView": "form",
        "id": "imnAkQ6jryL7"
      },
      "outputs": [],
      "source": [
        "#@title runtime arguments\n",
        "\n",
        "class Args:\n",
        "\n",
        "  def __getitem__(self, key):\n",
        "    return getattr(self, key)\n",
        "\n",
        "  def __setitem__(self, key, val):\n",
        "    setattr(self, key, val)\n",
        "\n",
        "  #@markdown expert data\n",
        "  expert_policy_file = 'cds_rl/policies/experts/Ant.pkl' #@param\n",
        "  expert_data = 'cds_rl/expert_data/expert_data_Ant-v2.pkl' #@param\n",
        "  env_name = 'Ant-v2' #@param ['Ant-v2', 'Humanoid-v2', 'Walker2d-v2', 'HalfCheetah-v2', 'Hopper-v2']\n",
        "  exp_name = 'test_bc_ant' #@param\n",
        "  do_dagger = False #@param {type: \"boolean\"}\n",
        "  ep_len = 1000 #@param {type: \"integer\"}\n",
        "  save_params = False #@param {type: \"boolean\"}\n",
        "\n",
        "  num_agent_train_steps_per_iter = 1000 #@param {type: \"integer\"})\n",
        "  n_iter = 1 #@param {type: \"integer\"})\n",
        "\n",
        "  #@markdown batches & buffers\n",
        "  batch_size = 1000 #@param {type: \"integer\"})\n",
        "  eval_batch_size = 100000 #@param {type: \"integer\"}\n",
        "  train_batch_size = 100 #@param {type: \"integer\"}\n",
        "  max_replay_buffer_size = 1000000 #@param {type: \"integer\"}\n",
        "\n",
        "  #@markdown network\n",
        "  n_layers =  4#@param {type: \"integer\"}\n",
        "  size = 64 #@param {type: \"integer\"}\n",
        "  learning_rate = 5e-3 #@param {type: \"number\"}\n",
        "\n",
        "  #@markdown logging\n",
        "  video_log_freq =  -1#@param {type: \"integer\"}\n",
        "  scalar_log_freq =  1#@param {type: \"integer\"}\n",
        "\n",
        "  #@markdown gpu & run-time settings\n",
        "  no_gpu = False #@param {type: \"boolean\"}\n",
        "  which_gpu = 0 #@param {type: \"integer\"}\n",
        "  seed = 1 #@param {type: \"integer\"}\n",
        "\n",
        "args = Args()\n"
      ]
    },
    {
      "cell_type": "code",
      "execution_count": 14,
      "metadata": {
        "cellView": "form",
        "id": "fLnU1evmss4I"
      },
      "outputs": [],
      "source": [
        "#@title define `BC_Trainer`\n",
        "class BC_Trainer(object):\n",
        "\n",
        "    def __init__(self, params):\n",
        "        #######################\n",
        "        # AGENT PARAMS\n",
        "        #######################\n",
        "\n",
        "        agent_params = {\n",
        "            'n_layers': params['n_layers'],\n",
        "            'size': params['size'],\n",
        "            'learning_rate': params['learning_rate'],\n",
        "            'max_replay_buffer_size': params['max_replay_buffer_size'],\n",
        "            }\n",
        "\n",
        "        self.params = params\n",
        "        self.params['agent_class'] = BCAgent # TODO: look in here and implement this\n",
        "        self.params['agent_params'] = agent_params\n",
        "\n",
        "        ################\n",
        "        # RL TRAINER\n",
        "        ################\n",
        "\n",
        "        self.rl_trainer = RL_Trainer(self.params) # TODO: look in here and implement this\n",
        "\n",
        "        #######################\n",
        "        # LOAD EXPERT POLICY\n",
        "        #######################\n",
        "\n",
        "        print('Loading expert policy from...', self.params['expert_policy_file'])\n",
        "        self.loaded_expert_policy = LoadedGaussianPolicy(self.params['expert_policy_file'])\n",
        "        print('Done restoring expert policy...')\n",
        "\n",
        "    def run_training_loop(self):\n",
        "\n",
        "        self.rl_trainer.run_training_loop(\n",
        "            n_iter=self.params['n_iter'],\n",
        "            initial_expertdata=self.params['expert_data'],\n",
        "            collect_policy=self.rl_trainer.agent.actor,\n",
        "            eval_policy=self.rl_trainer.agent.actor,\n",
        "            relabel_with_expert=self.params['do_dagger'],\n",
        "            expert_policy=self.loaded_expert_policy,\n",
        "        )\n"
      ]
    },
    {
      "cell_type": "code",
      "execution_count": 15,
      "metadata": {
        "cellView": "form",
        "id": "7UkzHBfxsxH8"
      },
      "outputs": [],
      "source": [
        "#@title create directory for logging\n",
        "\n",
        "if args.do_dagger:\n",
        "    logdir_prefix = 'q2_'  # The autograder uses the prefix `q2_`\n",
        "    assert args.n_iter>1, ('DAgger needs more than 1 iteration (n_iter>1) of training, to iteratively query the expert and train (after 1st warmstarting from behavior cloning).')\n",
        "else:\n",
        "    logdir_prefix = 'q1_'  # The autograder uses the prefix `q1_`\n",
        "    assert args.n_iter==1, ('Vanilla behavior cloning collects expert data just once (n_iter=1)')\n",
        "\n",
        "data_path ='/content/cds_rl_2022/hw1/data'\n",
        "if not (os.path.exists(data_path)):\n",
        "    os.makedirs(data_path)\n",
        "logdir = logdir_prefix + args.exp_name + '_' + args.env_name + \\\n",
        "         '_' + time.strftime(\"%d-%m-%Y_%H-%M-%S\")\n",
        "logdir = os.path.join(data_path, logdir)\n",
        "args['logdir'] = logdir\n",
        "if not(os.path.exists(logdir)):\n",
        "    os.makedirs(logdir)"
      ]
    },
    {
      "cell_type": "code",
      "execution_count": 16,
      "metadata": {
        "colab": {
          "base_uri": "https://localhost:8080/"
        },
        "id": "_qQb789_syt0",
        "outputId": "9fe760a3-027f-40a6-f23a-3b76c46b0eb1"
      },
      "outputs": [
        {
          "output_type": "stream",
          "name": "stdout",
          "text": [
            "########################\n",
            "logging outputs to  /content/cds_rl_2022/hw1/data/q1_test_bc_ant_Ant-v2_22-05-2022_20-07-51\n",
            "########################\n",
            "Using GPU id 0\n",
            "Loading expert policy from... cds_rl/policies/experts/Ant.pkl\n",
            "obs (1, 111) (1, 111)\n",
            "Done restoring expert policy...\n",
            "\n",
            "\n",
            "********** Iteration 0 ************\n",
            "\n",
            "Training agent using sampled data from replay buffer...\n",
            "\n",
            "Beginning logging procedure...\n",
            "\n",
            "Collecting data for eval...\n",
            "Eval_AverageReturn : 4459.7724609375\n",
            "Eval_StdReturn : 712.1804809570312\n",
            "Eval_MaxReturn : 4950.037109375\n",
            "Eval_MinReturn : 768.483154296875\n",
            "Eval_AverageEpLen : 984.2058823529412\n",
            "Train_AverageReturn : 4713.6533203125\n",
            "Train_StdReturn : 12.196533203125\n",
            "Train_MaxReturn : 4725.849609375\n",
            "Train_MinReturn : 4701.45654296875\n",
            "Train_AverageEpLen : 1000.0\n",
            "Train_EnvstepsSoFar : 0\n",
            "TimeSinceStart : 100.508056640625\n",
            "Training Loss : 0.0014932571211829782\n",
            "Initial_DataCollection_AverageReturn : 4713.6533203125\n",
            "Done logging...\n",
            "\n",
            "\n",
            "CPU times: user 1min 40s, sys: 348 ms, total: 1min 40s\n",
            "Wall time: 1min 40s\n"
          ]
        }
      ],
      "source": [
        "%%time\n",
        "## run training\n",
        "trainer = BC_Trainer(args)\n",
        "trainer.run_training_loop()"
      ]
    },
    {
      "cell_type": "markdown",
      "source": [
        "### walker"
      ],
      "metadata": {
        "id": "Z8Y3TJCNg3gk"
      }
    },
    {
      "cell_type": "code",
      "execution_count": 40,
      "metadata": {
        "cellView": "form",
        "id": "0AAZ0AYL9GiC"
      },
      "outputs": [],
      "source": [
        "#@title runtime arguments\n",
        "\n",
        "class Args:\n",
        "\n",
        "  def __getitem__(self, key):\n",
        "    return getattr(self, key)\n",
        "\n",
        "  def __setitem__(self, key, val):\n",
        "    setattr(self, key, val)\n",
        "\n",
        "  #@markdown expert data\n",
        "  expert_policy_file = 'cds_rl/policies/experts/Walker2d.pkl' #@param\n",
        "  expert_data = 'cds_rl/expert_data/expert_data_Walker2d-v2.pkl' #@param\n",
        "  env_name = 'Walker2d-v2' #@param ['Ant-v2', 'Humanoid-v2', 'Walker2d-v2', 'HalfCheetah-v2', 'Hopper-v2']\n",
        "  exp_name = 'test_bcwalker' #@param\n",
        "  do_dagger = False #@param {type: \"boolean\"}\n",
        "  ep_len = 1000 #@param {type: \"integer\"}\n",
        "  save_params = False #@param {type: \"boolean\"}\n",
        "\n",
        "  num_agent_train_steps_per_iter = 10000 #@param {type: \"integer\"})\n",
        "  n_iter = 1 #@param {type: \"integer\"})\n",
        "\n",
        "  #@markdown batches & buffers\n",
        "  batch_size = 1000 #@param {type: \"integer\"})\n",
        "  eval_batch_size = 10000 #@param {type: \"integer\"}\n",
        "  train_batch_size = 100 #@param {type: \"integer\"}\n",
        "  max_replay_buffer_size = 1000000 #@param {type: \"integer\"}\n",
        "\n",
        "  #@markdown network\n",
        "  n_layers =  4#@param {type: \"integer\"}\n",
        "  size = 64 #@param {type: \"integer\"}\n",
        "  learning_rate = 5e-3 #@param {type: \"number\"}\n",
        "\n",
        "  #@markdown logging\n",
        "  video_log_freq =  9#@param {type: \"integer\"}\n",
        "  scalar_log_freq =  1#@param {type: \"integer\"}\n",
        "\n",
        "  #@markdown gpu & run-time settings\n",
        "  no_gpu = False #@param {type: \"boolean\"}\n",
        "  which_gpu = 0 #@param {type: \"integer\"}\n",
        "  seed =  228#@param {type: \"integer\"}\n",
        "\n",
        "args = Args()\n"
      ]
    },
    {
      "cell_type": "code",
      "execution_count": 41,
      "metadata": {
        "cellView": "form",
        "id": "njruOd2K9J2F"
      },
      "outputs": [],
      "source": [
        "#@title define `BC_Trainer`\n",
        "class BC_Trainer(object):\n",
        "\n",
        "    def __init__(self, params):\n",
        "        #######################\n",
        "        # AGENT PARAMS\n",
        "        #######################\n",
        "\n",
        "        agent_params = {\n",
        "            'n_layers': params['n_layers'],\n",
        "            'size': params['size'],\n",
        "            'learning_rate': params['learning_rate'],\n",
        "            'max_replay_buffer_size': params['max_replay_buffer_size'],\n",
        "            }\n",
        "\n",
        "        self.params = params\n",
        "        self.params['agent_class'] = BCAgent # TODO: look in here and implement this\n",
        "        self.params['agent_params'] = agent_params\n",
        "\n",
        "        ################\n",
        "        # RL TRAINER\n",
        "        ################\n",
        "\n",
        "        self.rl_trainer = RL_Trainer(self.params) # TODO: look in here and implement this\n",
        "\n",
        "        #######################\n",
        "        # LOAD EXPERT POLICY\n",
        "        #######################\n",
        "\n",
        "        print('Loading expert policy from...', self.params['expert_policy_file'])\n",
        "        self.loaded_expert_policy = LoadedGaussianPolicy(self.params['expert_policy_file'])\n",
        "        print('Done restoring expert policy...')\n",
        "\n",
        "    def run_training_loop(self):\n",
        "\n",
        "        self.rl_trainer.run_training_loop(\n",
        "            n_iter=self.params['n_iter'],\n",
        "            initial_expertdata=self.params['expert_data'],\n",
        "            collect_policy=self.rl_trainer.agent.actor,\n",
        "            eval_policy=self.rl_trainer.agent.actor,\n",
        "            relabel_with_expert=self.params['do_dagger'],\n",
        "            expert_policy=self.loaded_expert_policy,\n",
        "        )\n"
      ]
    },
    {
      "cell_type": "code",
      "execution_count": 42,
      "metadata": {
        "id": "GG4O5lbt9L5J"
      },
      "outputs": [],
      "source": [
        "#@title create directory for logging\n",
        "\n",
        "if args.do_dagger:\n",
        "    logdir_prefix = 'q2_'  # The autograder uses the prefix `q2_`\n",
        "    assert args.n_iter>1, ('DAgger needs more than 1 iteration (n_iter>1) of training, to iteratively query the expert and train (after 1st warmstarting from behavior cloning).')\n",
        "else:\n",
        "    logdir_prefix = 'q1_'  # The autograder uses the prefix `q1_`\n",
        "    assert args.n_iter==1, ('Vanilla behavior cloning collects expert data just once (n_iter=1)')\n",
        "\n",
        "data_path ='/content/cds_rl_2022/hw1/data'\n",
        "if not (os.path.exists(data_path)):\n",
        "    os.makedirs(data_path)\n",
        "logdir = logdir_prefix + args.exp_name + '_' + args.env_name + \\\n",
        "         '_' + time.strftime(\"%d-%m-%Y_%H-%M-%S\")\n",
        "logdir = os.path.join(data_path, logdir)\n",
        "args['logdir'] = logdir\n",
        "if not(os.path.exists(logdir)):\n",
        "    os.makedirs(logdir)"
      ]
    },
    {
      "cell_type": "code",
      "execution_count": 43,
      "metadata": {
        "id": "HkX_7_4W-Hk5",
        "colab": {
          "base_uri": "https://localhost:8080/"
        },
        "outputId": "963350a5-047d-4079-e5c6-0ffe8e8bf671"
      },
      "outputs": [
        {
          "output_type": "stream",
          "name": "stdout",
          "text": [
            "########################\n",
            "logging outputs to  /content/cds_rl_2022/hw1/data/q1_test_bcwalker_Walker2d-v2_22-05-2022_20-44-47\n",
            "########################\n",
            "Using GPU id 0\n",
            "Loading expert policy from... cds_rl/policies/experts/Walker2d.pkl\n",
            "obs (1, 17) (1, 17)\n",
            "Done restoring expert policy...\n",
            "\n",
            "\n",
            "********** Iteration 0 ************\n",
            "\n",
            "Training agent using sampled data from replay buffer...\n",
            "\n",
            "Beginning logging procedure...\n",
            "\n",
            "Collecting data for eval...\n",
            "Eval_AverageReturn : 2730.468505859375\n",
            "Eval_StdReturn : 1293.3822021484375\n",
            "Eval_MaxReturn : 5266.4501953125\n",
            "Eval_MinReturn : 1097.931640625\n",
            "Eval_AverageEpLen : 568.4444444444445\n",
            "Train_AverageReturn : 5566.845703125\n",
            "Train_StdReturn : 9.237548828125\n",
            "Train_MaxReturn : 5576.08349609375\n",
            "Train_MinReturn : 5557.6083984375\n",
            "Train_AverageEpLen : 1000.0\n",
            "Train_EnvstepsSoFar : 0\n",
            "TimeSinceStart : 28.50238537788391\n",
            "Training Loss : 0.0018361406400799751\n",
            "Initial_DataCollection_AverageReturn : 5566.845703125\n",
            "Done logging...\n",
            "\n",
            "\n"
          ]
        }
      ],
      "source": [
        "## run training\n",
        "trainer = BC_Trainer(args)\n",
        "trainer.run_training_loop()"
      ]
    },
    {
      "cell_type": "markdown",
      "source": [
        "## Behavioral Cloning, исследование гиперпараметров"
      ],
      "metadata": {
        "id": "U_KEJHERicpc"
      }
    },
    {
      "cell_type": "code",
      "source": [
        "class Args_n:\n",
        "\n",
        "  def __init__(self, num_agent_train_steps_per_iter = 1000):\n",
        "    self.num_agent_train_steps_per_iter = num_agent_train_steps_per_iter\n",
        "  def __getitem__(self, key):\n",
        "    return getattr(self, key)\n",
        "\n",
        "  def __setitem__(self, key, val):\n",
        "    setattr(self, key, val)\n",
        "\n",
        "  #@markdown expert data\n",
        "  expert_policy_file = 'cds_rl/policies/experts/Walker2d.pkl' #@param\n",
        "  expert_data = 'cds_rl/expert_data/expert_data_Walker2d-v2.pkl' #@param\n",
        "  env_name = 'Walker2d-v2' #@param ['Ant-v2', 'Humanoid-v2', 'Walker2d-v2', 'HalfCheetah-v2', 'Hopper-v2']\n",
        "  exp_name = 'hp_test_bcwalker' #@param\n",
        "  do_dagger = False #@param {type: \"boolean\"}\n",
        "  ep_len = 1000 #@param {type: \"integer\"}\n",
        "  save_params = False #@param {type: \"boolean\"}\n",
        "\n",
        "#   num_agent_train_steps_per_iter = 10000 #@param {type: \"integer\"})\n",
        "  n_iter = 1 #@param {type: \"integer\"})\n",
        "\n",
        "  #@markdown batches & buffers\n",
        "  batch_size = 1000 #@param {type: \"integer\"})\n",
        "  eval_batch_size = 10000 #@param {type: \"integer\"}\n",
        "  train_batch_size = 1001 #@param {type: \"integer\"}\n",
        "  max_replay_buffer_size = 1000000 #@param {type: \"integer\"}\n",
        "\n",
        "  #@markdown network\n",
        "  n_layers =  4#@param {type: \"integer\"}\n",
        "  size = 64 #@param {type: \"integer\"}\n",
        "  learning_rate = 5e-3 #@param {type: \"number\"}\n",
        "\n",
        "  #@markdown logging\n",
        "  video_log_freq =  -1#@param {type: \"integer\"}\n",
        "  scalar_log_freq =  1#@param {type: \"integer\"}\n",
        "\n",
        "  #@markdown gpu & run-time settings\n",
        "  no_gpu = False #@param {type: \"boolean\"}\n",
        "  which_gpu = 0 #@param {type: \"integer\"}\n",
        "  seed =  228#@param {type: \"integer\"}\n",
        "\n",
        "  logdir = '/content/cds_rl_2022/hw1/data/'+'q1_' + 'hp_test_bcwalker' + '_' + 'walker' + '_'"
      ],
      "metadata": {
        "id": "bOzESNdgii3K"
      },
      "execution_count": 27,
      "outputs": []
    },
    {
      "cell_type": "code",
      "source": [
        "#@title define `BC_Trainer`\n",
        "class BC_Trainer(object):\n",
        "\n",
        "    def __init__(self, params):\n",
        "        #######################\n",
        "        # AGENT PARAMS\n",
        "        #######################\n",
        "\n",
        "        agent_params = {\n",
        "            'n_layers': params['n_layers'],\n",
        "            'size': params['size'],\n",
        "            'learning_rate': params['learning_rate'],\n",
        "            'max_replay_buffer_size': params['max_replay_buffer_size'],\n",
        "            }\n",
        "\n",
        "        self.params = params\n",
        "        self.params['agent_class'] = BCAgent # TODO: look in here and implement this\n",
        "        self.params['agent_params'] = agent_params\n",
        "\n",
        "        ################\n",
        "        # RL TRAINER\n",
        "        ################\n",
        "\n",
        "        self.rl_trainer = RL_Trainer(self.params) # TODO: look in here and implement this\n",
        "\n",
        "        #######################\n",
        "        # LOAD EXPERT POLICY\n",
        "        #######################\n",
        "\n",
        "        # print('Loading expert policy from...', self.params['expert_policy_file'])\n",
        "        self.loaded_expert_policy = LoadedGaussianPolicy(self.params['expert_policy_file'])\n",
        "        # print('Done restoring expert policy...')\n",
        "\n",
        "    def run_training_loop(self):\n",
        "\n",
        "        self.rl_trainer.run_training_loop(\n",
        "            n_iter=self.params['n_iter'],\n",
        "            initial_expertdata=self.params['expert_data'],\n",
        "            collect_policy=self.rl_trainer.agent.actor,\n",
        "            eval_policy=self.rl_trainer.agent.actor,\n",
        "            relabel_with_expert=self.params['do_dagger'],\n",
        "            expert_policy=self.loaded_expert_policy,\n",
        "        )\n"
      ],
      "metadata": {
        "cellView": "form",
        "id": "n3HXD1Y5jvgq"
      },
      "execution_count": 28,
      "outputs": []
    },
    {
      "cell_type": "code",
      "source": [
        "## run training\n",
        "args_s = [(i, Args_n(i)) for i in [10, 100, 1000, 10000]]\n",
        "for i, args in args_s:\n",
        "    trainer = BC_Trainer(args)\n",
        "    trainer.run_training_loop()"
      ],
      "metadata": {
        "colab": {
          "base_uri": "https://localhost:8080/"
        },
        "id": "mMMrMgihkBdp",
        "outputId": "3810eec0-5c23-406b-b2c7-5e20e5e70bbd"
      },
      "execution_count": 29,
      "outputs": [
        {
          "output_type": "stream",
          "name": "stdout",
          "text": [
            "########################\n",
            "logging outputs to  /content/cds_rl_2022/hw1/data/q1_hp_test_bcwalker_walker_\n",
            "########################\n",
            "Using GPU id 0\n",
            "obs (1, 17) (1, 17)\n",
            "\n",
            "\n",
            "********** Iteration 0 ************\n",
            "\n",
            "Training agent using sampled data from replay buffer...\n",
            "\n",
            "Beginning logging procedure...\n",
            "\n",
            "Collecting data for eval...\n",
            "Eval_AverageReturn : 1477.0521240234375\n",
            "Eval_StdReturn : 2088.616455078125\n",
            "Eval_MaxReturn : 5341.83251953125\n",
            "Eval_MinReturn : 212.0707244873047\n",
            "Eval_AverageEpLen : 325.741935483871\n",
            "Train_AverageReturn : 5566.845703125\n",
            "Train_StdReturn : 9.237548828125\n",
            "Train_MaxReturn : 5576.08349609375\n",
            "Train_MinReturn : 5557.6083984375\n",
            "Train_AverageEpLen : 1000.0\n",
            "Train_EnvstepsSoFar : 0\n",
            "TimeSinceStart : 9.713696002960205\n",
            "Training Loss : 0.008747640065848827\n",
            "Initial_DataCollection_AverageReturn : 5566.845703125\n",
            "Done logging...\n",
            "\n",
            "\n",
            "########################\n",
            "logging outputs to  /content/cds_rl_2022/hw1/data/q1_hp_test_bcwalker_walker_\n",
            "########################\n",
            "Using GPU id 0\n",
            "obs (1, 17) (1, 17)\n",
            "\n",
            "\n",
            "********** Iteration 0 ************\n",
            "\n",
            "Training agent using sampled data from replay buffer...\n",
            "\n",
            "Beginning logging procedure...\n",
            "\n",
            "Collecting data for eval...\n",
            "Eval_AverageReturn : 1477.0521240234375\n",
            "Eval_StdReturn : 2088.616455078125\n",
            "Eval_MaxReturn : 5341.83251953125\n",
            "Eval_MinReturn : 212.0707244873047\n",
            "Eval_AverageEpLen : 325.741935483871\n",
            "Train_AverageReturn : 5566.845703125\n",
            "Train_StdReturn : 9.237548828125\n",
            "Train_MaxReturn : 5576.08349609375\n",
            "Train_MinReturn : 5557.6083984375\n",
            "Train_AverageEpLen : 1000.0\n",
            "Train_EnvstepsSoFar : 0\n",
            "TimeSinceStart : 10.945462226867676\n",
            "Training Loss : 0.008747640065848827\n",
            "Initial_DataCollection_AverageReturn : 5566.845703125\n",
            "Done logging...\n",
            "\n",
            "\n",
            "########################\n",
            "logging outputs to  /content/cds_rl_2022/hw1/data/q1_hp_test_bcwalker_walker_\n",
            "########################\n",
            "Using GPU id 0\n",
            "obs (1, 17) (1, 17)\n",
            "\n",
            "\n",
            "********** Iteration 0 ************\n",
            "\n",
            "Training agent using sampled data from replay buffer...\n",
            "\n",
            "Beginning logging procedure...\n",
            "\n",
            "Collecting data for eval...\n",
            "Eval_AverageReturn : 1477.0521240234375\n",
            "Eval_StdReturn : 2088.616455078125\n",
            "Eval_MaxReturn : 5341.83251953125\n",
            "Eval_MinReturn : 212.0707244873047\n",
            "Eval_AverageEpLen : 325.741935483871\n",
            "Train_AverageReturn : 5566.845703125\n",
            "Train_StdReturn : 9.237548828125\n",
            "Train_MaxReturn : 5576.08349609375\n",
            "Train_MinReturn : 5557.6083984375\n",
            "Train_AverageEpLen : 1000.0\n",
            "Train_EnvstepsSoFar : 0\n",
            "TimeSinceStart : 10.032887697219849\n",
            "Training Loss : 0.008747640065848827\n",
            "Initial_DataCollection_AverageReturn : 5566.845703125\n",
            "Done logging...\n",
            "\n",
            "\n",
            "########################\n",
            "logging outputs to  /content/cds_rl_2022/hw1/data/q1_hp_test_bcwalker_walker_\n",
            "########################\n",
            "Using GPU id 0\n",
            "obs (1, 17) (1, 17)\n",
            "\n",
            "\n",
            "********** Iteration 0 ************\n",
            "\n",
            "Training agent using sampled data from replay buffer...\n",
            "\n",
            "Beginning logging procedure...\n",
            "\n",
            "Collecting data for eval...\n",
            "Eval_AverageReturn : 1477.0521240234375\n",
            "Eval_StdReturn : 2088.616455078125\n",
            "Eval_MaxReturn : 5341.83251953125\n",
            "Eval_MinReturn : 212.0707244873047\n",
            "Eval_AverageEpLen : 325.741935483871\n",
            "Train_AverageReturn : 5566.845703125\n",
            "Train_StdReturn : 9.237548828125\n",
            "Train_MaxReturn : 5576.08349609375\n",
            "Train_MinReturn : 5557.6083984375\n",
            "Train_AverageEpLen : 1000.0\n",
            "Train_EnvstepsSoFar : 0\n",
            "TimeSinceStart : 9.659144401550293\n",
            "Training Loss : 0.008747640065848827\n",
            "Initial_DataCollection_AverageReturn : 5566.845703125\n",
            "Done logging...\n",
            "\n",
            "\n"
          ]
        }
      ]
    },
    {
      "cell_type": "code",
      "source": [
        "import matplotlib.pyplot as plt\n",
        "\n",
        "y = [-10.1, 430, 1477, 3512, 2334]\n",
        "y_lab = \"Eval Average Return\"\n",
        "x = [10, 100, 1000, 10000, 100000]\n",
        "x_lab = \"num_agent_train_steps_per_iter\"\n",
        "\n",
        "plt.figure(figsize=(10, 5))\n",
        "plt.plot(x, y)\n",
        "plt.xlabel(x_lab)\n",
        "plt.ylabel(y_lab)\n",
        "plt.xscale(\"log\")"
      ],
      "metadata": {
        "colab": {
          "base_uri": "https://localhost:8080/",
          "height": 338
        },
        "id": "yNYJqgqhl4aa",
        "outputId": "12f31fd4-33e1-4904-ef88-929e5e085d55"
      },
      "execution_count": 35,
      "outputs": [
        {
          "output_type": "display_data",
          "data": {
            "text/plain": [
              "<Figure size 720x360 with 1 Axes>"
            ],
            "image/png": "[encoded data removed]"
          },
          "metadata": {
            "needs_background": "light"
          }
        }
      ]
    },
    {
      "cell_type": "markdown",
      "source": [
        "## Tensorboard"
      ],
      "metadata": {
        "id": "vPoJt4qFhoGD"
      }
    },
    {
      "cell_type": "code",
      "execution_count": 9,
      "metadata": {
        "colab": {
          "base_uri": "https://localhost:8080/",
          "height": 893
        },
        "id": "75M0MlR5tUIb",
        "outputId": "a461b592-acd9-4942-9585-d09204c4a1f4"
      },
      "outputs": [
        {
          "output_type": "stream",
          "name": "stdout",
          "text": [
            "/bin/bash: line 0: kill: (4531) - No such process\n",
            "The tensorboard extension is already loaded. To reload it, use:\n",
            "  %reload_ext tensorboard\n"
          ]
        },
        {
          "output_type": "display_data",
          "data": {
            "text/plain": [
              "Reusing TensorBoard on port 6006 (pid 4531), started 1:46:57 ago. (Use '!kill 4531' to kill it.)"
            ]
          },
          "metadata": {}
        },
        {
          "output_type": "display_data",
          "data": {
            "text/plain": [
              "<IPython.core.display.Javascript object>"
            ],
            "application/javascript": [
              "\n",
              "        (async () => {\n",
              "            const url = new URL(await google.colab.kernel.proxyPort(6006, {'cache': true}));\n",
              "            url.searchParams.set('tensorboardColab', 'true');\n",
              "            const iframe = document.createElement('iframe');\n",
              "            iframe.src = url;\n",
              "            iframe.setAttribute('width', '100%');\n",
              "            iframe.setAttribute('height', '800');\n",
              "            iframe.setAttribute('frameborder', 0);\n",
              "            document.body.appendChild(iframe);\n",
              "        })();\n",
              "    "
            ]
          },
          "metadata": {}
        }
      ],
      "source": [
        "#@markdown You can visualize your runs with tensorboard from within the notebook\n",
        "%load_ext tensorboard\n",
        "%tensorboard --logdir /content/cds_rl_2022/hw1/data"
      ]
    },
    {
      "cell_type": "markdown",
      "metadata": {
        "id": "ff9onuUPfPEa"
      },
      "source": [
        "## Running DAgger (Problem 2)\n",
        "Modify the settings above:\n",
        "1. check the `do_dagger` box\n",
        "2. set `n_iters` to `10`\n",
        "and then rerun the code."
      ]
    },
    {
      "cell_type": "code",
      "execution_count": 36,
      "metadata": {
        "cellView": "form",
        "id": "8k-jtpF0lGyj"
      },
      "outputs": [],
      "source": [
        "#@title runtime arguments\n",
        "\n",
        "class Args:\n",
        "\n",
        "  def __getitem__(self, key):\n",
        "    return getattr(self, key)\n",
        "\n",
        "  def __setitem__(self, key, val):\n",
        "    setattr(self, key, val)\n",
        "\n",
        "  #@markdown expert data\n",
        "  expert_policy_file = 'cds_rl/policies/experts/Ant.pkl' #@param\n",
        "  expert_data = 'cds_rl/expert_data/expert_data_Ant-v2.pkl' #@param\n",
        "  env_name = 'Ant-v2' #@param ['Ant-v2', 'Humanoid-v2', 'Walker2d-v2', 'HalfCheetah-v2', 'Hopper-v2']\n",
        "  exp_name = 'test_bc_ant' #@param\n",
        "  do_dagger = True #@param {type: \"boolean\"}\n",
        "  ep_len = 1000 #@param {type: \"integer\"}\n",
        "  save_params = False #@param {type: \"boolean\"}\n",
        "\n",
        "  num_agent_train_steps_per_iter = 1000 #@param {type: \"integer\"})\n",
        "  n_iter = 10 #@param {type: \"integer\"})\n",
        "\n",
        "  #@markdown batches & buffers\n",
        "  batch_size = 1000 #@param {type: \"integer\"})\n",
        "  eval_batch_size = 10000 #@param {type: \"integer\"}\n",
        "  train_batch_size = 100 #@param {type: \"integer\"}\n",
        "  max_replay_buffer_size = 1000000 #@param {type: \"integer\"}\n",
        "\n",
        "  #@markdown network\n",
        "  n_layers = 2 #@param {type: \"integer\"}\n",
        "  size = 64 #@param {type: \"integer\"}\n",
        "  learning_rate = 5e-3 #@param {type: \"number\"}\n",
        "\n",
        "  #@markdown logging\n",
        "  video_log_freq =  -1#@param {type: \"integer\"}\n",
        "  scalar_log_freq =  1#@param {type: \"integer\"}\n",
        "\n",
        "  #@markdown gpu & run-time settings\n",
        "  no_gpu = False #@param {type: \"boolean\"}\n",
        "  which_gpu = 0 #@param {type: \"integer\"}\n",
        "  seed = 1 #@param {type: \"integer\"}\n",
        "\n",
        "args = Args()\n"
      ]
    },
    {
      "cell_type": "code",
      "execution_count": 37,
      "metadata": {
        "cellView": "form",
        "id": "d0ZSfhBOqi-g"
      },
      "outputs": [],
      "source": [
        "#@title define `BC_Trainer`\n",
        "class BC_Trainer(object):\n",
        "\n",
        "    def __init__(self, params):\n",
        "        #######################\n",
        "        # AGENT PARAMS\n",
        "        #######################\n",
        "\n",
        "        agent_params = {\n",
        "            'n_layers': params['n_layers'],\n",
        "            'size': params['size'],\n",
        "            'learning_rate': params['learning_rate'],\n",
        "            'max_replay_buffer_size': params['max_replay_buffer_size'],\n",
        "            }\n",
        "\n",
        "        self.params = params\n",
        "        self.params['agent_class'] = BCAgent # TODO: look in here and implement this\n",
        "        self.params['agent_params'] = agent_params\n",
        "\n",
        "        ################\n",
        "        # RL TRAINER\n",
        "        ################\n",
        "\n",
        "        self.rl_trainer = RL_Trainer(self.params) # TODO: look in here and implement this\n",
        "\n",
        "        #######################\n",
        "        # LOAD EXPERT POLICY\n",
        "        #######################\n",
        "\n",
        "        print('Loading expert policy from...', self.params['expert_policy_file'])\n",
        "        self.loaded_expert_policy = LoadedGaussianPolicy(self.params['expert_policy_file'])\n",
        "        print('Done restoring expert policy...')\n",
        "\n",
        "    def run_training_loop(self):\n",
        "\n",
        "        self.rl_trainer.run_training_loop(\n",
        "            n_iter=self.params['n_iter'],\n",
        "            initial_expertdata=self.params['expert_data'],\n",
        "            collect_policy=self.rl_trainer.agent.actor,\n",
        "            eval_policy=self.rl_trainer.agent.actor,\n",
        "            relabel_with_expert=self.params['do_dagger'],\n",
        "            expert_policy=self.loaded_expert_policy,\n",
        "        )\n"
      ]
    },
    {
      "cell_type": "code",
      "execution_count": 38,
      "metadata": {
        "cellView": "form",
        "id": "DCLlpnZaqlim"
      },
      "outputs": [],
      "source": [
        "#@title create directory for logging\n",
        "\n",
        "if args.do_dagger:\n",
        "    logdir_prefix = 'q2_'  # The autograder uses the prefix `q2_`\n",
        "    assert args.n_iter>1, ('DAgger needs more than 1 iteration (n_iter>1) of training, to iteratively query the expert and train (after 1st warmstarting from behavior cloning).')\n",
        "else:\n",
        "    logdir_prefix = 'q1_'  # The autograder uses the prefix `q1_`\n",
        "    assert args.n_iter==1, ('Vanilla behavior cloning collects expert data just once (n_iter=1)')\n",
        "\n",
        "data_path ='/content/cds_rl_2022/hw1/data'\n",
        "if not (os.path.exists(data_path)):\n",
        "    os.makedirs(data_path)\n",
        "logdir = logdir_prefix + args.exp_name + '_' + args.env_name + \\\n",
        "         '_' + time.strftime(\"%d-%m-%Y_%H-%M-%S\")\n",
        "logdir = os.path.join(data_path, logdir)\n",
        "args['logdir'] = logdir\n",
        "if not(os.path.exists(logdir)):\n",
        "    os.makedirs(logdir)"
      ]
    },
    {
      "cell_type": "code",
      "execution_count": 39,
      "metadata": {
        "colab": {
          "base_uri": "https://localhost:8080/"
        },
        "outputId": "1a3f4d2f-d179-4f9e-da5b-c8b2f8bcb4a1",
        "id": "g6imANbKqpmE"
      },
      "outputs": [
        {
          "output_type": "stream",
          "name": "stdout",
          "text": [
            "########################\n",
            "logging outputs to  /content/cds_rl_2022/hw1/data/q2_test_bc_ant_Ant-v2_22-05-2022_21-27-06\n",
            "########################\n",
            "Using GPU id 0\n",
            "Loading expert policy from... cds_rl/policies/experts/Ant.pkl\n",
            "obs (1, 111) (1, 111)\n",
            "Done restoring expert policy...\n",
            "\n",
            "\n",
            "********** Iteration 0 ************\n",
            "\n",
            "Training agent using sampled data from replay buffer...\n",
            "\n",
            "Beginning logging procedure...\n",
            "\n",
            "Collecting data for eval...\n",
            "Eval_AverageReturn : 4237.943359375\n",
            "Eval_StdReturn : 1042.2493896484375\n",
            "Eval_MaxReturn : 4945.31640625\n",
            "Eval_MinReturn : 1527.9185791015625\n",
            "Eval_AverageEpLen : 962.0909090909091\n",
            "Train_AverageReturn : 4713.6533203125\n",
            "Train_StdReturn : 12.196533203125\n",
            "Train_MaxReturn : 4725.849609375\n",
            "Train_MinReturn : 4701.45654296875\n",
            "Train_AverageEpLen : 1000.0\n",
            "Train_EnvstepsSoFar : 0\n",
            "TimeSinceStart : 10.989105224609375\n",
            "Training Loss : 0.0013770797522738576\n",
            "Initial_DataCollection_AverageReturn : 4713.6533203125\n",
            "Done logging...\n",
            "\n",
            "\n",
            "\n",
            "\n",
            "********** Iteration 1 ************\n",
            "\n",
            "Collecting data to be used for training...\n",
            "\n",
            "Relabelling collected observations with labels from an expert policy...\n",
            "\n",
            "Training agent using sampled data from replay buffer...\n",
            "\n",
            "Beginning logging procedure...\n",
            "\n",
            "Collecting data for eval...\n",
            "Eval_AverageReturn : 4662.36669921875\n",
            "Eval_StdReturn : 91.93042755126953\n",
            "Eval_MaxReturn : 4838.8916015625\n",
            "Eval_MinReturn : 4528.65185546875\n",
            "Eval_AverageEpLen : 1000.0\n",
            "Train_AverageReturn : 4639.08935546875\n",
            "Train_StdReturn : 0.0\n",
            "Train_MaxReturn : 4639.08935546875\n",
            "Train_MinReturn : 4639.08935546875\n",
            "Train_AverageEpLen : 1000.0\n",
            "Train_EnvstepsSoFar : 1000\n",
            "TimeSinceStart : 22.269431114196777\n",
            "Training Loss : 0.0009711002930998802\n",
            "Initial_DataCollection_AverageReturn : 4713.6533203125\n",
            "Done logging...\n",
            "\n",
            "\n",
            "\n",
            "\n",
            "********** Iteration 2 ************\n",
            "\n",
            "Collecting data to be used for training...\n",
            "\n",
            "Relabelling collected observations with labels from an expert policy...\n",
            "\n",
            "Training agent using sampled data from replay buffer...\n",
            "\n",
            "Beginning logging procedure...\n",
            "\n",
            "Collecting data for eval...\n",
            "Eval_AverageReturn : 4529.02685546875\n",
            "Eval_StdReturn : 388.24017333984375\n",
            "Eval_MaxReturn : 4842.6904296875\n",
            "Eval_MinReturn : 3401.98681640625\n",
            "Eval_AverageEpLen : 968.4545454545455\n",
            "Train_AverageReturn : 4678.21826171875\n",
            "Train_StdReturn : 0.0\n",
            "Train_MaxReturn : 4678.21826171875\n",
            "Train_MinReturn : 4678.21826171875\n",
            "Train_AverageEpLen : 1000.0\n",
            "Train_EnvstepsSoFar : 2000\n",
            "TimeSinceStart : 34.04606008529663\n",
            "Training Loss : 0.0008138046250678599\n",
            "Initial_DataCollection_AverageReturn : 4713.6533203125\n",
            "Done logging...\n",
            "\n",
            "\n",
            "\n",
            "\n",
            "********** Iteration 3 ************\n",
            "\n",
            "Collecting data to be used for training...\n",
            "\n",
            "Relabelling collected observations with labels from an expert policy...\n",
            "\n",
            "Training agent using sampled data from replay buffer...\n",
            "\n",
            "Beginning logging procedure...\n",
            "\n",
            "Collecting data for eval...\n",
            "Eval_AverageReturn : 3548.740478515625\n",
            "Eval_StdReturn : 1768.4892578125\n",
            "Eval_MaxReturn : 4781.3583984375\n",
            "Eval_MinReturn : 323.26806640625\n",
            "Eval_AverageEpLen : 764.7857142857143\n",
            "Train_AverageReturn : 4714.408203125\n",
            "Train_StdReturn : 0.0\n",
            "Train_MaxReturn : 4714.408203125\n",
            "Train_MinReturn : 4714.408203125\n",
            "Train_AverageEpLen : 1000.0\n",
            "Train_EnvstepsSoFar : 3000\n",
            "TimeSinceStart : 45.965070962905884\n",
            "Training Loss : 0.0006018232670612633\n",
            "Initial_DataCollection_AverageReturn : 4713.6533203125\n",
            "Done logging...\n",
            "\n",
            "\n",
            "\n",
            "\n",
            "********** Iteration 4 ************\n",
            "\n",
            "Collecting data to be used for training...\n",
            "\n",
            "Relabelling collected observations with labels from an expert policy...\n",
            "\n",
            "Training agent using sampled data from replay buffer...\n",
            "\n",
            "Beginning logging procedure...\n",
            "\n",
            "Collecting data for eval...\n",
            "Eval_AverageReturn : 4687.86572265625\n",
            "Eval_StdReturn : 97.85144805908203\n",
            "Eval_MaxReturn : 4807.193359375\n",
            "Eval_MinReturn : 4442.4306640625\n",
            "Eval_AverageEpLen : 1000.0\n",
            "Train_AverageReturn : 4782.36181640625\n",
            "Train_StdReturn : 0.0\n",
            "Train_MaxReturn : 4782.36181640625\n",
            "Train_MinReturn : 4782.36181640625\n",
            "Train_AverageEpLen : 1000.0\n",
            "Train_EnvstepsSoFar : 4000\n",
            "TimeSinceStart : 57.3092041015625\n",
            "Training Loss : 0.0005864195409230888\n",
            "Initial_DataCollection_AverageReturn : 4713.6533203125\n",
            "Done logging...\n",
            "\n",
            "\n",
            "\n",
            "\n",
            "********** Iteration 5 ************\n",
            "\n",
            "Collecting data to be used for training...\n",
            "\n",
            "Relabelling collected observations with labels from an expert policy...\n",
            "\n",
            "Training agent using sampled data from replay buffer...\n",
            "\n",
            "Beginning logging procedure...\n",
            "\n",
            "Collecting data for eval...\n",
            "Eval_AverageReturn : 4762.583984375\n",
            "Eval_StdReturn : 72.02229309082031\n",
            "Eval_MaxReturn : 4856.12158203125\n",
            "Eval_MinReturn : 4613.1982421875\n",
            "Eval_AverageEpLen : 1000.0\n",
            "Train_AverageReturn : 4613.455078125\n",
            "Train_StdReturn : 0.0\n",
            "Train_MaxReturn : 4613.455078125\n",
            "Train_MinReturn : 4613.455078125\n",
            "Train_AverageEpLen : 1000.0\n",
            "Train_EnvstepsSoFar : 5000\n",
            "TimeSinceStart : 68.74581098556519\n",
            "Training Loss : 0.0005030215252190828\n",
            "Initial_DataCollection_AverageReturn : 4713.6533203125\n",
            "Done logging...\n",
            "\n",
            "\n",
            "\n",
            "\n",
            "********** Iteration 6 ************\n",
            "\n",
            "Collecting data to be used for training...\n",
            "\n",
            "Relabelling collected observations with labels from an expert policy...\n",
            "\n",
            "Training agent using sampled data from replay buffer...\n",
            "\n",
            "Beginning logging procedure...\n",
            "\n",
            "Collecting data for eval...\n",
            "Eval_AverageReturn : 4765.2587890625\n",
            "Eval_StdReturn : 77.14125061035156\n",
            "Eval_MaxReturn : 4912.03515625\n",
            "Eval_MinReturn : 4662.654296875\n",
            "Eval_AverageEpLen : 1000.0\n",
            "Train_AverageReturn : 4770.0693359375\n",
            "Train_StdReturn : 0.0\n",
            "Train_MaxReturn : 4770.0693359375\n",
            "Train_MinReturn : 4770.0693359375\n",
            "Train_AverageEpLen : 1000.0\n",
            "Train_EnvstepsSoFar : 6000\n",
            "TimeSinceStart : 80.2084367275238\n",
            "Training Loss : 0.0006984079955145717\n",
            "Initial_DataCollection_AverageReturn : 4713.6533203125\n",
            "Done logging...\n",
            "\n",
            "\n",
            "\n",
            "\n",
            "********** Iteration 7 ************\n",
            "\n",
            "Collecting data to be used for training...\n",
            "\n",
            "Relabelling collected observations with labels from an expert policy...\n",
            "\n",
            "Training agent using sampled data from replay buffer...\n",
            "\n",
            "Beginning logging procedure...\n",
            "\n",
            "Collecting data for eval...\n",
            "Eval_AverageReturn : 4780.11376953125\n",
            "Eval_StdReturn : 98.36255645751953\n",
            "Eval_MaxReturn : 4937.609375\n",
            "Eval_MinReturn : 4559.14892578125\n",
            "Eval_AverageEpLen : 1000.0\n",
            "Train_AverageReturn : 4874.125\n",
            "Train_StdReturn : 0.0\n",
            "Train_MaxReturn : 4874.125\n",
            "Train_MinReturn : 4874.125\n",
            "Train_AverageEpLen : 1000.0\n",
            "Train_EnvstepsSoFar : 7000\n",
            "TimeSinceStart : 91.7142550945282\n",
            "Training Loss : 0.00034815515391528606\n",
            "Initial_DataCollection_AverageReturn : 4713.6533203125\n",
            "Done logging...\n",
            "\n",
            "\n",
            "\n",
            "\n",
            "********** Iteration 8 ************\n",
            "\n",
            "Collecting data to be used for training...\n",
            "\n",
            "Relabelling collected observations with labels from an expert policy...\n",
            "\n",
            "Training agent using sampled data from replay buffer...\n",
            "\n",
            "Beginning logging procedure...\n",
            "\n",
            "Collecting data for eval...\n",
            "Eval_AverageReturn : 4786.15771484375\n",
            "Eval_StdReturn : 96.25291442871094\n",
            "Eval_MaxReturn : 4935.15625\n",
            "Eval_MinReturn : 4659.025390625\n",
            "Eval_AverageEpLen : 1000.0\n",
            "Train_AverageReturn : 4891.8681640625\n",
            "Train_StdReturn : 0.0\n",
            "Train_MaxReturn : 4891.8681640625\n",
            "Train_MinReturn : 4891.8681640625\n",
            "Train_AverageEpLen : 1000.0\n",
            "Train_EnvstepsSoFar : 8000\n",
            "TimeSinceStart : 103.18877363204956\n",
            "Training Loss : 0.0005008488660678267\n",
            "Initial_DataCollection_AverageReturn : 4713.6533203125\n",
            "Done logging...\n",
            "\n",
            "\n",
            "\n",
            "\n",
            "********** Iteration 9 ************\n",
            "\n",
            "Collecting data to be used for training...\n",
            "\n",
            "Relabelling collected observations with labels from an expert policy...\n",
            "\n",
            "Training agent using sampled data from replay buffer...\n",
            "\n",
            "Beginning logging procedure...\n",
            "\n",
            "Collecting data for eval...\n",
            "Eval_AverageReturn : 4741.6962890625\n",
            "Eval_StdReturn : 219.59976196289062\n",
            "Eval_MaxReturn : 4949.0244140625\n",
            "Eval_MinReturn : 4153.69091796875\n",
            "Eval_AverageEpLen : 1000.0\n",
            "Train_AverageReturn : 4878.1669921875\n",
            "Train_StdReturn : 0.0\n",
            "Train_MaxReturn : 4878.1669921875\n",
            "Train_MinReturn : 4878.1669921875\n",
            "Train_AverageEpLen : 1000.0\n",
            "Train_EnvstepsSoFar : 9000\n",
            "TimeSinceStart : 114.54348063468933\n",
            "Training Loss : 0.0003257766366004944\n",
            "Initial_DataCollection_AverageReturn : 4713.6533203125\n",
            "Done logging...\n",
            "\n",
            "\n"
          ]
        }
      ],
      "source": [
        "## run training\n",
        "trainer = BC_Trainer(args)\n",
        "trainer.run_training_loop()"
      ]
    },
    {
      "cell_type": "code",
      "source": [
        "aver_return = [4237, 4662, 4529, 3548, 4687, 4762, 4765, 4780, 4786, 4741]\n",
        "std = [1042, 91, 388, 1768, 97, 97, 77, 98, 96, 219]\n",
        "x = range(10)\n",
        "plt.figure(figsize=(10, 5))\n",
        "plt.plot([4713]*len(aver_return), label=\"Expert\")\n",
        "plt.plot([3500]*len(aver_return), label=\"BC\")\n",
        "plt.errorbar(x, aver_return, yerr=std, fmt='-ro', label=\"DAgger\")\n",
        "plt.xlabel(\"iter\")\n",
        "plt.ylabel(\"Aver return (std)\")\n",
        "plt.legend()"
      ],
      "metadata": {
        "id": "ijdwxZqtQFPb",
        "colab": {
          "base_uri": "https://localhost:8080/",
          "height": 352
        },
        "outputId": "ab2df9d2-d3e9-45ef-cc23-e97604b78581"
      },
      "execution_count": 49,
      "outputs": [
        {
          "output_type": "execute_result",
          "data": {
            "text/plain": [
              "<matplotlib.legend.Legend at 0x7f195e53f450>"
            ]
          },
          "metadata": {},
          "execution_count": 49
        },
        {
          "output_type": "display_data",
          "data": {
            "text/plain": [
              "<Figure size 720x360 with 1 Axes>"
            ],
            "image/png": "[encoded data removed]"
          },
          "metadata": {
            "needs_background": "light"
          }
        }
      ]
    },
    {
      "cell_type": "code",
      "source": [
        "!cd ../../hw1/data &&  ls"
      ],
      "metadata": {
        "colab": {
          "base_uri": "https://localhost:8080/"
        },
        "id": "IpFapcdmuA3H",
        "outputId": "d30e0f0d-34ea-406e-b12c-be9768f0dffa"
      },
      "execution_count": 56,
      "outputs": [
        {
          "output_type": "stream",
          "name": "stdout",
          "text": [
            "hw1  rl_hw\n"
          ]
        }
      ]
    },
    {
      "cell_type": "code",
      "source": [
        "!mv ../../hw1/data ./\n"
      ],
      "metadata": {
        "id": "ZfMPYoR8xmqw"
      },
      "execution_count": 58,
      "outputs": []
    }
  ],
  "metadata": {
    "accelerator": "GPU",
    "colab": {
      "name": "Copy of run_hw1.ipynb",
      "provenance": [],
      "collapsed_sections": [
        "vPoJt4qFhoGD"
      ]
    },
    "kernelspec": {
      "display_name": "Python 3 (ipykernel)",
      "language": "python",
      "name": "python3"
    },
    "language_info": {
      "codemirror_mode": {
        "name": "ipython",
        "version": 3
      },
      "file_extension": ".py",
      "mimetype": "text/x-python",
      "name": "python",
      "nbconvert_exporter": "python",
      "pygments_lexer": "ipython3",
      "version": "3.8.12"
    }
  },
  "nbformat": 4,
  "nbformat_minor": 0
}